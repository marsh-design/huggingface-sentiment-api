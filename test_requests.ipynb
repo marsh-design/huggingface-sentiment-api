{
 "cells": [
  {
   "cell_type": "code",
   "execution_count": 4,
   "id": "c1b92bbf",
   "metadata": {
    "scrolled": true
   },
   "outputs": [
    {
     "name": "stdout",
     "output_type": "stream",
     "text": [
      "[{'label': 'POSITIVE', 'score': 0.9998855590820312}]\n",
      "[{'label': 'NEGATIVE', 'score': 0.9997715353965759}]\n",
      "[{'label': 'POSITIVE', 'score': 0.9998793601989746}]\n",
      "[{'label': 'NEGATIVE', 'score': 0.9997661709785461}]\n",
      "[{'label': 'POSITIVE', 'score': 0.999872088432312}]\n"
     ]
    }
   ],
   "source": [
    "import requests\n",
    "from concurrent.futures import ThreadPoolExecutor\n",
    "\n",
    "texts = [\n",
    "    \"I love this product!\",\n",
    "    \"This is the worst day ever.\",\n",
    "    \"What a beautiful surprise.\",\n",
    "    \"I’m so disappointed.\",\n",
    "    \"Absolutely incredible.\",\n",
    "]\n",
    "\n",
    "def send_request(text):\n",
    "    res = requests.post(\"http://localhost:8000/predict\", json={\"text\": text})\n",
    "    return res.json()\n",
    "\n",
    "with ThreadPoolExecutor() as executor:\n",
    "    results = list(executor.map(send_request, texts))\n",
    "\n",
    "for result in results:\n",
    "    print(result)"
   ]
  },
  {
   "cell_type": "code",
   "execution_count": null,
   "id": "2d39534c-e4ee-4eb9-aa49-482e5acfc147",
   "metadata": {},
   "outputs": [],
   "source": []
  }
 ],
 "metadata": {
  "kernelspec": {
   "display_name": "Python 3 (ipykernel)",
   "language": "python",
   "name": "python3"
  },
  "language_info": {
   "codemirror_mode": {
    "name": "ipython",
    "version": 3
   },
   "file_extension": ".py",
   "mimetype": "text/x-python",
   "name": "python",
   "nbconvert_exporter": "python",
   "pygments_lexer": "ipython3",
   "version": "3.9.6"
  }
 },
 "nbformat": 4,
 "nbformat_minor": 5
}
