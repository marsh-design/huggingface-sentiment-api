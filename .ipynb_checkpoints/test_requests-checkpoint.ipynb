
{
 "cells": [
  {
   "cell_type": "code",
   "execution_count": null,
   "id": "c1b92bbf",
   "metadata": {},
   "outputs": [],
   "source": [
    "import requests\n",
    "from concurrent.futures import ThreadPoolExecutor\n",
    "\n",
    "texts = [\n",
    "    \"I love this product!\",\n",
    "    \"This is the worst day ever.\",\n",
    "    \"What a beautiful surprise.\",\n",
    "    \"I’m so disappointed.\",\n",
    "    \"Absolutely incredible.\",\n",
    "]\n",
    "\n",
    "def send_request(text):\n",
    "    res = requests.post(\"http://localhost:8000/predict\", json={\"text\": text})\n",
    "    return res.json()\n",
    "\n",
    "with ThreadPoolExecutor() as executor:\n",
    "    results = list(executor.map(send_request, texts))\n",
    "\n",
    "for result in results:\n",
    "    print(result)"
   ]
  }
 ],
 "metadata": {
  "kernelspec": {
   "display_name": "Python 3",
   "language": "python",
   "name": "python3"
  },
  "language_info": {
   "name": "python",
   "version": "3.9"
  }
 },
 "nbformat": 4,
 "nbformat_minor": 5
}
